{
 "cells": [
  {
   "cell_type": "code",
   "execution_count": 2,
   "metadata": {},
   "outputs": [],
   "source": [
    "from sqlalchemy.engine import create_engine\n",
    "import sqlite3\n",
    "from pandas.io import sql\n",
    "import subprocess\n",
    "%load_ext sql"
   ]
  },
  {
   "cell_type": "code",
   "execution_count": 3,
   "metadata": {},
   "outputs": [],
   "source": [
    "%sql sqlite:///project2.db"
   ]
  },
  {
   "cell_type": "code",
   "execution_count": 7,
   "metadata": {},
   "outputs": [
    {
     "name": "stdout",
     "output_type": "stream",
     "text": [
      " * sqlite:///project2.db\n",
      "Done.\n"
     ]
    },
    {
     "data": {
      "text/plain": [
       "[]"
      ]
     },
     "execution_count": 7,
     "metadata": {},
     "output_type": "execute_result"
    }
   ],
   "source": [
    "%%sql\n",
    "CREATE TABLE Researcher (\n",
    "    Email VARCHAR(10),\n",
    "    FirstName VARCHAR(10),\n",
    "    LastName VARCHAR(10),\n",
    "    Organization VARCHAR(10),\n",
    "    Reviewer BINARY,\n",
    "    Department VARCHAR(50),\n",
    "    PRIMARY KEY (Email)\n",
    "); "
   ]
  },
  {
   "cell_type": "code",
   "execution_count": 27,
   "metadata": {},
   "outputs": [
    {
     "name": "stdout",
     "output_type": "stream",
     "text": [
      " * sqlite:///project2.db\n",
      "Done.\n"
     ]
    },
    {
     "data": {
      "text/plain": [
       "[]"
      ]
     },
     "execution_count": 27,
     "metadata": {},
     "output_type": "execute_result"
    }
   ],
   "source": [
    "%%sql\n",
    "CREATE TABLE CallForGrantProposal(\n",
    "    Number INT,\n",
    "    HostingCouncilKey INT,\n",
    "    Title VARCHAR(10), \n",
    "    Area VARCHAR(10),\n",
    "    Status VARCHAR(10),\n",
    "    Deadline DATE,\n",
    "    Description VARCHAR(60),\n",
    "    PRIMARY KEY (Number, HostingCouncilKey)\n",
    ");"
   ]
  },
  {
   "cell_type": "code",
   "execution_count": 44,
   "metadata": {},
   "outputs": [
    {
     "name": "stdout",
     "output_type": "stream",
     "text": [
      " * sqlite:///project2.db\n",
      "Done.\n"
     ]
    },
    {
     "data": {
      "text/plain": [
       "[]"
      ]
     },
     "execution_count": 44,
     "metadata": {},
     "output_type": "execute_result"
    }
   ],
   "source": [
    "%%sql\n",
    "CREATE TABLE GrantProposal (\n",
    "    Number INT,\n",
    "    CallForGrantProposalNumber INT,\n",
    "    ApplicationStatus VARCHAR(10),\n",
    "    SummitDate DATE DEFAULT NULL,\n",
    "    RequestedAmount INT,\n",
    "    PrincipalInvestigator VARCHAR(50),\n",
    "\n",
    "    FOREIGN KEY (CallForGrantProposalNumber) REFERENCES CallForGrantProposal(Number)\n",
    "\n",
    ");"
   ]
  },
  {
   "cell_type": "code",
   "execution_count": 30,
   "metadata": {},
   "outputs": [
    {
     "name": "stdout",
     "output_type": "stream",
     "text": [
      " * sqlite:///project2.db\n",
      "Done.\n"
     ]
    },
    {
     "data": {
      "text/plain": [
       "[]"
      ]
     },
     "execution_count": 30,
     "metadata": {},
     "output_type": "execute_result"
    }
   ],
   "source": [
    "%%sql\n",
    "CREATE TABLE Meeting (\n",
    "    Num INT,\n",
    "    Date DATE,\n",
    "    FOREIGN KEY (Num) REFERENCES CallForGrant(Num)\n",
    ");"
   ]
  },
  {
   "cell_type": "code",
   "execution_count": 11,
   "metadata": {},
   "outputs": [
    {
     "name": "stdout",
     "output_type": "stream",
     "text": [
      " * sqlite:///project2.db\n",
      "Done.\n"
     ]
    },
    {
     "data": {
      "text/plain": [
       "[]"
      ]
     },
     "execution_count": 11,
     "metadata": {},
     "output_type": "execute_result"
    }
   ],
   "source": [
    "%%sql\n",
    "CREATE TABLE Participates (\n",
    "    Participant_email VARCHAR(10),\n",
    "    CallForGrantProposalNumber INT,\n",
    "    FOREIGN KEY (Participant_email) REFERENCES Researcher(Email),\n",
    "    FOREIGN KEY (CallForGrantProposalNumber) REFERENCES CallForGrantProposal(Number)\n",
    ");"
   ]
  },
  {
   "cell_type": "code",
   "execution_count": 38,
   "metadata": {},
   "outputs": [
    {
     "name": "stdout",
     "output_type": "stream",
     "text": [
      " * sqlite:///project2.db\n",
      "Done.\n"
     ]
    },
    {
     "data": {
      "text/plain": [
       "[]"
      ]
     },
     "execution_count": 38,
     "metadata": {},
     "output_type": "execute_result"
    }
   ],
   "source": [
    "%%sql\n",
    "CREATE TABLE Reviewing (\n",
    "    Deadline DATE,\n",
    "    CallForGrantProposalNumber INT,\n",
    "    SubmissionStatus VARCHAR(50),\n",
    "    Reviewer_email VARCHAR(10),\n",
    "\n",
    "    FOREIGN KEY (Reviewer_email) REFERENCES Researcher(Email)\n",
    "    FOREIGN KEY (CallForGrantProposalNumber) REFERENCES CallForGrantProposal(Number)\n",
    ");"
   ]
  },
  {
   "cell_type": "code",
   "execution_count": 35,
   "metadata": {},
   "outputs": [
    {
     "name": "stdout",
     "output_type": "stream",
     "text": [
      " * sqlite:///project2.db\n",
      "Done.\n"
     ]
    },
    {
     "data": {
      "text/plain": [
       "[]"
      ]
     },
     "execution_count": 35,
     "metadata": {},
     "output_type": "execute_result"
    }
   ],
   "source": [
    "%%sql\n",
    "CREATE TABLE Awards (\n",
    "    ProposalID INT, \n",
    "    Amount INT,\n",
    "    Date DATE,\n",
    "    FOREIGN KEY (ProposalID) REFERENCES GrantProposal(Number)\n",
    ");"
   ]
  },
  {
   "cell_type": "code",
   "execution_count": 14,
   "metadata": {},
   "outputs": [
    {
     "name": "stdout",
     "output_type": "stream",
     "text": [
      " * sqlite:///project2.db\n",
      "Done.\n"
     ]
    },
    {
     "data": {
      "text/plain": [
       "[]"
      ]
     },
     "execution_count": 14,
     "metadata": {},
     "output_type": "execute_result"
    }
   ],
   "source": [
    "%%sql\n",
    "CREATE TABLE ResearchGrantCouncil (\n",
    "    PrimKey INT,\n",
    "    PRIMARY KEY(PrimKey)\n",
    "\n",
    ");"
   ]
  },
  {
   "cell_type": "code",
   "execution_count": 15,
   "metadata": {},
   "outputs": [
    {
     "name": "stdout",
     "output_type": "stream",
     "text": [
      " * sqlite:///project2.db\n",
      "10 rows affected.\n"
     ]
    },
    {
     "data": {
      "text/plain": [
       "[]"
      ]
     },
     "execution_count": 15,
     "metadata": {},
     "output_type": "execute_result"
    }
   ],
   "source": [
    "%%sql\n",
    "INSERT INTO Researcher  (Email, FirstName, LastName, Organization, Reviewer, Department)\n",
    "VALUES \n",
    "    (\"yagiz@sfu.ca\",\"Yagiz\",\"Aksos\",\"SFU\",1,\"Computer Science\"),\n",
    "    (\"alaa@sfu.ca\",\"Alaa\",\"Alameldeen\",\"SFU\",0, \"Computer Science\"),\n",
    "    (\"saba@sfu.ca\",\"Saba\",\"Alimadadi\",\"SFU\",1, \"Computer Science\"),\n",
    "    (\"matt@sfu.ca\",\"Matt\",\"Amy\",\"SFU\",1, \"Computer Science\"),\n",
    "    (\"steven@sfu.ca\",\"Steven\",\"Bergner\",\"SFU\",0, \"Education\"),\n",
    "    (\"brad@sfu.ca\",\"Brad\",\"Bart\",\"SFU\",\t0,\"Education\"),\n",
    "    (\"robert@sfu.ca\",\"Robert\",\"Cameron\",\"SFU\",0,\"Arts\"),\n",
    "    (\"bobby@sfu.ca\",\"Bobby\",\"Chan\",\"SFU\",1,\"Arts\"),\n",
    "    (\"angel@sfu.ca\",\"Angel\",\"Chang\",\"SFU\",1,\"Engineering\"),\n",
    "    (\"ritland@sfu.ca\",\"Ritland\",\"Kermit\",\"UBC\",\t0, \"Environment\");\n"
   ]
  },
  {
   "cell_type": "code",
   "execution_count": 28,
   "metadata": {},
   "outputs": [
    {
     "name": "stdout",
     "output_type": "stream",
     "text": [
      " * sqlite:///project2.db\n",
      "10 rows affected.\n"
     ]
    },
    {
     "data": {
      "text/plain": [
       "[]"
      ]
     },
     "execution_count": 28,
     "metadata": {},
     "output_type": "execute_result"
    }
   ],
   "source": [
    "%%sql \n",
    "INSERT INTO CallForGrantProposal (Number, HostingCouncilKey, Title, Area, Status, Deadline, Description)\n",
    "VALUES\n",
    "    (1, 0, \"Exploring Machine Learning Techniques for Predictive Maintenance in Industrial Systems\", \"Computer Science\", \"Open\", \"2024-04-20\", \"This research delves into harnessing the power of machine learning to revolutionize predictive maintenance strategies in industrial settings, ensuring optimal equipment functionality and minimizing downtime.\"),\n",
    "    (2, 0, \"Investigating the Application of Blockchain Technology in Supply Chain Management\", \"Computer Science\", \"Open\", \"2024-04-20\", \"Investigating how blockchain technology can transform supply chain management by enhancing transparency, traceability, and trust among stakeholders, thereby revolutionizing global trade practices.\"),\n",
    "    (3, 0, \"A Comparative Analysis of Cloud Computing Platforms for Scalable Web Applications\", \"Computer Science\", \"Open\", \"2024-04-20\", \"This study conducts a thorough comparative analysis of leading cloud computing platforms to identify the most suitable solution for hosting scalable web applications, optimizing performance and cost-effectiveness.\"),\n",
    "    (4, 0, \"Enhancing Cybersecurity Measures through Threat Intelligence and Machine Learning\", \"Computer Science\", \"Open\", \"2024-04-20\", \"Exploring the fusion of artificial intelligence and threat intelligence to bolster cybersecurity defenses, empowering organizations to proactively identify and mitigate emerging cyber threats in real-time.\"),\n",
    "    (5, 0, \"Optimizing Big Data Processing with Apache Spark and Hadoop Ecosystem\", \"Computer Science\", \"Open\", \"2024-04-20\", \"Investigating techniques to streamline big data processing using Apache Spark and the Hadoop ecosystem, enabling organizations to efficiently analyze vast datasets and derive valuable insights for informed decision-making.\"),\n",
    "    (6, 0, \"Understanding the Impact of Quantum Computing on Cryptography and Data Security\", \"Computer Science\", \"Open\", \"2024-04-20\", \"This research investigates the potential implications of quantum computing on cryptographic protocols, aiming to develop robust encryption methods resistant to quantum attacks in the post-quantum era.\"),\n",
    "    (7, 0, \"Developing Efficient Algorithms for Real-Time Image Recognition in Autonomous Vehicles\", \"Computer Science\", \"Open\", \"2024-04-20\", \"Developing cutting-edge algorithms for real-time image recognition to enhance the safety and autonomy of self-driving vehicles, paving the way for the widespread adoption of autonomous transportation systems.\"),\n",
    "    (8, 0, \"Investigating the Role of Artificial Intelligence in Personalized Medicine and Healthcare\", \"Computer Science\", \"Open\", \"2024-04-20\", \"Exploring the integration of artificial intelligence in healthcare to deliver personalized treatment plans and improve patient outcomes, revolutionizing the delivery of medical services and optimizing resource allocation.\"),\n",
    "    (9, 0, \"Exploring the Potential of Augmented Reality in Education and Training Applications\", \"Computer Science\", \"Open\", \"2024-04-20\", \"Investigating the educational applications of augmented reality technology to create immersive learning experiences, engaging students and facilitating knowledge retention through interactive simulations and virtual environments.\"),\n",
    "    (10, 0, \"Advancing Digital Forensic Techniques for Investigating Cybercrime and Cybersecurity Incidents\", \"Forensic\", \"Open\", \"2024-04-20\", \"Advancing digital forensic techniques to effectively investigate cybercrime and cybersecurity incidents, leveraging cutting-edge tools and methodologies to uncover digital evidence and prosecute offenders.\");\n"
   ]
  },
  {
   "cell_type": "code",
   "execution_count": 46,
   "metadata": {},
   "outputs": [
    {
     "name": "stdout",
     "output_type": "stream",
     "text": [
      " * sqlite:///project2.db\n",
      "10 rows affected.\n"
     ]
    },
    {
     "data": {
      "text/plain": [
       "[]"
      ]
     },
     "execution_count": 46,
     "metadata": {},
     "output_type": "execute_result"
    }
   ],
   "source": [
    "%%sql\n",
    "INSERT INTO GrantProposal (Number,CallForGrantProposalNumber, ApplicationStatus,SummitDate, RequestedAmount, PrincipalInvestigator)\n",
    "VALUES\n",
    "    (1,1, \"Not summit\",NULL,2000, \"saba@sfu.ca\"),\n",
    "    (2,1, \"Summited\",\"2024-04-05\", 2500, \"saba@sfu.ca\"),\n",
    "    (3,1, \"Not summit\",NULL, 50000, \"alaa@sfu.ca\"),\n",
    "    (4,2, \"Summited\",\"2024-04-05\", 1500, \"alaa@sfu.ca\"),\n",
    "    (5,2, \"Not summit\",NULL, 2000, \"robert@sfu.ca\"),\n",
    "    (6,2, \"Summited\",\"2024-04-05\", 3000, \"robert@sfu.ca\"),\n",
    "    (7,3, \"Summited\",\"2024-04-05\", 30000, \"robert@sfu.ca\"),\n",
    "    (8,3, \"Not summit\",NULL, 2300, \"brad@sfu.ca\"),\n",
    "    (9,3, \"Not summit\",NULL, 23000, \"brad@sfu.ca\"),\n",
    "    (10,3, \"Not summit\",NULL, 3300, \"ritland@sfu.ca\");"
   ]
  },
  {
   "cell_type": "code",
   "execution_count": 31,
   "metadata": {},
   "outputs": [
    {
     "name": "stdout",
     "output_type": "stream",
     "text": [
      " * sqlite:///project2.db\n",
      "10 rows affected.\n"
     ]
    },
    {
     "data": {
      "text/plain": [
       "[]"
      ]
     },
     "execution_count": 31,
     "metadata": {},
     "output_type": "execute_result"
    }
   ],
   "source": [
    "%%sql\n",
    "INSERT INTO Meeting (Num, Date)\n",
    "VALUES\n",
    "    (1, \"2024-05-01\"),\n",
    "    (2, \"2024-05-11\"),\n",
    "    (3, \"2024-05-11\"),\n",
    "    (4, \"2024-05-01\"),\n",
    "    (5, \"2024-05-11\"),\n",
    "    (6, \"2024-05-01\"),\n",
    "    (7, \"2024-05-31\"),\n",
    "    (8, \"2024-05-21\"),\n",
    "    (9, \"2024-05-21\"),\n",
    "    (10, \"2024-05-01\");"
   ]
  },
  {
   "cell_type": "code",
   "execution_count": 21,
   "metadata": {},
   "outputs": [
    {
     "name": "stdout",
     "output_type": "stream",
     "text": [
      " * sqlite:///project2.db\n",
      "10 rows affected.\n"
     ]
    },
    {
     "data": {
      "text/plain": [
       "[]"
      ]
     },
     "execution_count": 21,
     "metadata": {},
     "output_type": "execute_result"
    }
   ],
   "source": [
    "%%sql\n",
    "INSERT INTO Participates (Participant_email, CallForGrantProposalNumber)\n",
    "VALUES\n",
    "    (\"brad@sfu.ca\",1),\n",
    "    (\"robert@sfu.ca\", 2),\n",
    "    (\"bobby@sfu.ca\", 3),\n",
    "    (\"angel@sfu.ca\", 4),\n",
    "    (\"ritland@sfu.ca\", 5),\n",
    "    (\"brad@sfu.ca\", 6),\n",
    "    (\"robert@sfu.ca\", 7),\n",
    "    (\"bobby@sfu.ca\", 8),\n",
    "    (\"angel@sfu.ca\", 9),\n",
    "    (\"ritland@sfu.ca\", 10);"
   ]
  },
  {
   "cell_type": "code",
   "execution_count": 36,
   "metadata": {},
   "outputs": [
    {
     "name": "stdout",
     "output_type": "stream",
     "text": [
      " * sqlite:///project2.db\n",
      "3 rows affected.\n"
     ]
    },
    {
     "data": {
      "text/plain": [
       "[]"
      ]
     },
     "execution_count": 36,
     "metadata": {},
     "output_type": "execute_result"
    }
   ],
   "source": [
    "%%sql\n",
    "INSERT INTO Awards (ProposalID, Amount, Date)\n",
    "VALUES\n",
    "    (2,1500,\"2024-05-30\"),\n",
    "    (4,1000,\"2024-05-30\"),\n",
    "    (7,20000,\"2024-05-30\");"
   ]
  },
  {
   "cell_type": "code",
   "execution_count": 39,
   "metadata": {},
   "outputs": [
    {
     "name": "stdout",
     "output_type": "stream",
     "text": [
      " * sqlite:///project2.db\n",
      "10 rows affected.\n"
     ]
    },
    {
     "data": {
      "text/plain": [
       "[]"
      ]
     },
     "execution_count": 39,
     "metadata": {},
     "output_type": "execute_result"
    }
   ],
   "source": [
    "%%sql\n",
    "INSERT INTO Reviewing (Deadline, CallForGrantProposalNumber,SubmissionStatus,Reviewer_email)\n",
    "VALUES \n",
    "    (\"2024-05-15\",\t1,\t\"Submit\",   \"matt@sfu.ca\"),\n",
    "    (\"2024-05-15\",\t1,\t\"Submit\",\t\"steven@sfu.ca\"),\n",
    "    (\"2024-05-15\",\t2,\t\"Submit\",\t\"robert@sfu.ca\"),\n",
    "    (\"2024-05-15\",\t2,\t\"Submit\",\t\"brad@sfu.ca\"),\n",
    "    (\"2024-05-15\",\t2,\t\"Submit\",\t\"matt@sfu.ca\"),\n",
    "    (\"2024-05-15\",\t3,\t\"Not Submit\",\t\"bobby@sfu.ca\"),\n",
    "    (\"2024-05-15\",\t3,\t\"Not Submit\",\t\"angel@sfu.ca\"),\n",
    "    (\"2024-05-15\",\t7,\t\"Not Submit\",\t\"matt@sfu.ca\"),\n",
    "    (\"2024-05-15\",\t7,\t\"Not Submit\",\t\"steven@sfu.ca\"),\n",
    "    (\"2024-05-15\",\t7,\t\"Not Submit\",\t\"robert@sfu.ca\");\n"
   ]
  },
  {
   "cell_type": "code",
   "execution_count": 24,
   "metadata": {},
   "outputs": [
    {
     "name": "stdout",
     "output_type": "stream",
     "text": [
      " * sqlite:///project2.db\n",
      "1 rows affected.\n"
     ]
    },
    {
     "data": {
      "text/plain": [
       "[]"
      ]
     },
     "execution_count": 24,
     "metadata": {},
     "output_type": "execute_result"
    }
   ],
   "source": [
    "%%sql\n",
    "INSERT INTO ResearchGrantCouncil (PrimKey) VALUES (0);"
   ]
  },
  {
   "cell_type": "code",
   "execution_count": 7,
   "metadata": {},
   "outputs": [
    {
     "name": "stdout",
     "output_type": "stream",
     "text": [
      " * sqlite:///project2.db\n",
      "(sqlite3.OperationalError) view [ReviewerEmail] already exists\n",
      "[SQL: CREATE VIEW [ReviewerEmail] AS\n",
      "SELECT r.Email\n",
      "FROM Researcher as r;]\n",
      "(Background on this error at: https://sqlalche.me/e/20/e3q8)\n"
     ]
    }
   ],
   "source": [
    "%%sql\n",
    "CREATE VIEW [ReviewerEmail] AS\n",
    "SELECT r.Email\n",
    "FROM Researcher as r;"
   ]
  },
  {
   "cell_type": "code",
   "execution_count": 12,
   "metadata": {},
   "outputs": [
    {
     "name": "stdout",
     "output_type": "stream",
     "text": [
      " * sqlite:///project2.db\n",
      "Done.\n"
     ]
    },
    {
     "data": {
      "text/plain": [
       "[]"
      ]
     },
     "execution_count": 12,
     "metadata": {},
     "output_type": "execute_result"
    }
   ],
   "source": [
    "%%sql\n",
    "CREATE TABLE Co_authored_element (\n",
    "    reviewer_email VARCHAR(60),\n",
    "    conflict_id INTERGER,\n",
    "    PRIMARY KEY(reviewer_email,conflict_id),\n",
    "    FOREIGN KEY (reviewer_email) REFERENCES ReviewerEmail(Email)\n",
    ");\n"
   ]
  },
  {
   "cell_type": "code",
   "execution_count": 13,
   "metadata": {},
   "outputs": [
    {
     "name": "stdout",
     "output_type": "stream",
     "text": [
      " * sqlite:///project2.db\n",
      "10 rows affected.\n"
     ]
    },
    {
     "data": {
      "text/plain": [
       "[]"
      ]
     },
     "execution_count": 13,
     "metadata": {},
     "output_type": "execute_result"
    }
   ],
   "source": [
    "%%sql\n",
    "INSERT INTO Co_authored_element (reviewer_email, conflict_id)\n",
    "VALUES\n",
    "    (\"alaa@sfu.ca\",1),\n",
    "    (\"matt@sfu.ca\",1),\n",
    "    (\"matt@sfu.ca\",2),\n",
    "    (\"bobby@sfu.ca\",2),\n",
    "    (\"robert@sfu.ca\",2),\n",
    "    (\"robert@sfu.ca\",3),\n",
    "    (\"yagiz@sfu.ca\",3),\n",
    "    (\"brad@sfu.ca\",3),\n",
    "    (\"ritland@sfu.ca\",3),\n",
    "    (\"saba@sfu.ca\",3)"
   ]
  },
  {
   "cell_type": "markdown",
   "metadata": {},
   "source": [
    "1. Find all competitions (calls for grant proposals) open at a user-specified month, which already have at least one submitted large proposal. For a proposal to be large, it has to request more than $20,000 or to have more than 10 participants, including the principle investigator. Return both IDs and the titles.\n",
    "\n",
    "2. For a user-specified area, find the proposal(s) that request(s) the largest amount of money.\n",
    "\n",
    "3. For a user-specified date, find the proposals submitted before that date that are awarded the largest amount of money.\n",
    "\n",
    "4. For an area specified by the user, output its average requested/awarded discrepancy, that is, the absolute value of the difference between the amounts.\n",
    "\n",
    "5. Reviewer assignment: Provide the user with the option of assigning a set of reviewers to review a specific grant application (research proposal), one proposal at a time. The proposal ID should be specified by the user. Before doing the reviewers assignment, the user should be able to request and receive a list of reviewers who are not in conflict with the proposal being reviewed, and who still have not reached the maximum of three proposals to review.\n",
    "\n",
    "6. For a user-specified name, find the proposal(s) he/she needs to review."
   ]
  },
  {
   "cell_type": "code",
   "execution_count": 41,
   "metadata": {},
   "outputs": [
    {
     "name": "stdout",
     "output_type": "stream",
     "text": [
      " * sqlite:///project2.db\n",
      "Done.\n"
     ]
    },
    {
     "data": {
      "text/html": [
       "<table>\n",
       "    <thead>\n",
       "        <tr>\n",
       "            <th>Number</th>\n",
       "            <th>Title</th>\n",
       "        </tr>\n",
       "    </thead>\n",
       "    <tbody>\n",
       "        <tr>\n",
       "            <td>1</td>\n",
       "            <td>Exploring Machine Learning Techniques for Predictive Maintenance in Industrial Systems</td>\n",
       "        </tr>\n",
       "        <tr>\n",
       "            <td>3</td>\n",
       "            <td>A Comparative Analysis of Cloud Computing Platforms for Scalable Web Applications</td>\n",
       "        </tr>\n",
       "    </tbody>\n",
       "</table>"
      ],
      "text/plain": [
       "[(1, 'Exploring Machine Learning Techniques for Predictive Maintenance in Industrial Systems'),\n",
       " (3, 'A Comparative Analysis of Cloud Computing Platforms for Scalable Web Applications')]"
      ]
     },
     "execution_count": 41,
     "metadata": {},
     "output_type": "execute_result"
    }
   ],
   "source": [
    "%%sql\n",
    "SELECT c.Number, c.Title\n",
    "FROM CallForGrantProposal AS c\n",
    "JOIN GrantProposal AS g ON c.Number = g.CallForGrantProposalNumber\n",
    "WHERE strftime('%m', c.Deadline) = '04'\n",
    "AND (\n",
    "    g.RequestedAmount > 20000 \n",
    "    OR (\n",
    "        SELECT COUNT(*)\n",
    "        FROM Participates AS p\n",
    "        WHERE p.CallForGrantProposalNumber = g.CallForGrantProposalNumber\n",
    "    ) > 10\n",
    ")\n",
    "GROUP BY c.Number, c.Title;"
   ]
  },
  {
   "cell_type": "code",
   "execution_count": 42,
   "metadata": {},
   "outputs": [
    {
     "name": "stdout",
     "output_type": "stream",
     "text": [
      " * sqlite:///project2.db\n",
      "Done.\n"
     ]
    },
    {
     "data": {
      "text/html": [
       "<table>\n",
       "    <thead>\n",
       "        <tr>\n",
       "            <th>Number</th>\n",
       "            <th>CallForGrantProposalNumber</th>\n",
       "            <th>ApplicationStatus</th>\n",
       "            <th>RequestedAmount</th>\n",
       "            <th>PrincipalInvestigator</th>\n",
       "            <th>Number_1</th>\n",
       "            <th>HostingCouncilKey</th>\n",
       "            <th>Title</th>\n",
       "            <th>Area</th>\n",
       "            <th>Status</th>\n",
       "            <th>Deadline</th>\n",
       "            <th>Description</th>\n",
       "            <th>MAX(g.RequestedAmount)</th>\n",
       "        </tr>\n",
       "    </thead>\n",
       "    <tbody>\n",
       "        <tr>\n",
       "            <td>3</td>\n",
       "            <td>1</td>\n",
       "            <td>Not summit</td>\n",
       "            <td>50000</td>\n",
       "            <td>alaa@sfu.ca</td>\n",
       "            <td>1</td>\n",
       "            <td>0</td>\n",
       "            <td>Exploring Machine Learning Techniques for Predictive Maintenance in Industrial Systems</td>\n",
       "            <td>Computer Science</td>\n",
       "            <td>Open</td>\n",
       "            <td>2024-04-20</td>\n",
       "            <td>This research delves into harnessing the power of machine learning to revolutionize predictive maintenance strategies in industrial settings, ensuring optimal equipment functionality and minimizing downtime.</td>\n",
       "            <td>50000</td>\n",
       "        </tr>\n",
       "    </tbody>\n",
       "</table>"
      ],
      "text/plain": [
       "[(3, 1, 'Not summit', 50000, 'alaa@sfu.ca', 1, 0, 'Exploring Machine Learning Techniques for Predictive Maintenance in Industrial Systems', 'Computer Science', 'Open', '2024-04-20', 'This research delves into harnessing the power of machine learning to revolutionize predictive maintenance strategies in industrial settings, ensuring optimal equipment functionality and minimizing downtime.', 50000)]"
      ]
     },
     "execution_count": 42,
     "metadata": {},
     "output_type": "execute_result"
    }
   ],
   "source": [
    "%%sql\n",
    "SELECT *, MAX(g.RequestedAmount)\n",
    "FROM GrantProposal as g\n",
    "JOIN CallForGrantProposal AS c ON g.CallForGrantProposalNumber = c.Number\n",
    "WHERE c.Area = \"Computer Science\"\n"
   ]
  },
  {
   "cell_type": "code",
   "execution_count": null,
   "metadata": {},
   "outputs": [],
   "source": [
    "%%sql\n",
    "SELECT *\n",
    "FROM GrantProposal as g\n",
    "JOIN Awards as a ON g.Number = a.ProposalID\n",
    "WHERE g.SummitDate <= a.Date\n",
    "AND MAX(a.Amount)\n",
    "\n"
   ]
  },
  {
   "cell_type": "code",
   "execution_count": 54,
   "metadata": {},
   "outputs": [
    {
     "name": "stdout",
     "output_type": "stream",
     "text": [
      " * sqlite:///project2.db\n",
      "Done.\n"
     ]
    },
    {
     "data": {
      "text/html": [
       "<table>\n",
       "    <thead>\n",
       "        <tr>\n",
       "            <th>Number</th>\n",
       "            <th>CallForGrantProposalNumber</th>\n",
       "            <th>ApplicationStatus</th>\n",
       "            <th>SummitDate</th>\n",
       "            <th>RequestedAmount</th>\n",
       "            <th>PrincipalInvestigator</th>\n",
       "        </tr>\n",
       "    </thead>\n",
       "    <tbody>\n",
       "        <tr>\n",
       "            <td>2</td>\n",
       "            <td>1</td>\n",
       "            <td>Summited</td>\n",
       "            <td>2024-04-05</td>\n",
       "            <td>2500</td>\n",
       "            <td>saba@sfu.ca</td>\n",
       "        </tr>\n",
       "        <tr>\n",
       "            <td>4</td>\n",
       "            <td>2</td>\n",
       "            <td>Summited</td>\n",
       "            <td>2024-04-05</td>\n",
       "            <td>1500</td>\n",
       "            <td>alaa@sfu.ca</td>\n",
       "        </tr>\n",
       "        <tr>\n",
       "            <td>6</td>\n",
       "            <td>2</td>\n",
       "            <td>Summited</td>\n",
       "            <td>2024-04-05</td>\n",
       "            <td>3000</td>\n",
       "            <td>robert@sfu.ca</td>\n",
       "        </tr>\n",
       "        <tr>\n",
       "            <td>7</td>\n",
       "            <td>3</td>\n",
       "            <td>Summited</td>\n",
       "            <td>2024-04-05</td>\n",
       "            <td>30000</td>\n",
       "            <td>robert@sfu.ca</td>\n",
       "        </tr>\n",
       "    </tbody>\n",
       "</table>"
      ],
      "text/plain": [
       "[(2, 1, 'Summited', '2024-04-05', 2500, 'saba@sfu.ca'),\n",
       " (4, 2, 'Summited', '2024-04-05', 1500, 'alaa@sfu.ca'),\n",
       " (6, 2, 'Summited', '2024-04-05', 3000, 'robert@sfu.ca'),\n",
       " (7, 3, 'Summited', '2024-04-05', 30000, 'robert@sfu.ca')]"
      ]
     },
     "execution_count": 54,
     "metadata": {},
     "output_type": "execute_result"
    }
   ],
   "source": [
    "%%sql\n",
    "SELECT *\n",
    "FROM GrantProposal as g\n",
    "WHERE g.SummitDate <= (SELECT Date\n",
    "                       FROM (SELECT a2.Date, MAX(a2.Amount) as largestAwardAmount\n",
    "                            FROM Awards as a2\n",
    "                            )\n",
    "                      );\n"
   ]
  },
  {
   "cell_type": "code",
   "execution_count": 75,
   "metadata": {},
   "outputs": [
    {
     "name": "stdout",
     "output_type": "stream",
     "text": [
      " * sqlite:///project2.db\n",
      "Done.\n",
      "Done.\n"
     ]
    },
    {
     "data": {
      "text/html": [
       "<table>\n",
       "    <thead>\n",
       "        <tr>\n",
       "            <th>r1_email_allpairs</th>\n",
       "            <th>r2_email_allpairs</th>\n",
       "        </tr>\n",
       "    </thead>\n",
       "    <tbody>\n",
       "        <tr>\n",
       "            <td>yagiz@sfu.ca</td>\n",
       "            <td>steven@sfu.ca</td>\n",
       "        </tr>\n",
       "        <tr>\n",
       "            <td>yagiz@sfu.ca</td>\n",
       "            <td>brad@sfu.ca</td>\n",
       "        </tr>\n",
       "        <tr>\n",
       "            <td>yagiz@sfu.ca</td>\n",
       "            <td>robert@sfu.ca</td>\n",
       "        </tr>\n",
       "        <tr>\n",
       "            <td>yagiz@sfu.ca</td>\n",
       "            <td>bobby@sfu.ca</td>\n",
       "        </tr>\n",
       "        <tr>\n",
       "            <td>yagiz@sfu.ca</td>\n",
       "            <td>angel@sfu.ca</td>\n",
       "        </tr>\n",
       "        <tr>\n",
       "            <td>yagiz@sfu.ca</td>\n",
       "            <td>ritland@sfu.ca</td>\n",
       "        </tr>\n",
       "        <tr>\n",
       "            <td>alaa@sfu.ca</td>\n",
       "            <td>steven@sfu.ca</td>\n",
       "        </tr>\n",
       "        <tr>\n",
       "            <td>alaa@sfu.ca</td>\n",
       "            <td>brad@sfu.ca</td>\n",
       "        </tr>\n",
       "        <tr>\n",
       "            <td>alaa@sfu.ca</td>\n",
       "            <td>robert@sfu.ca</td>\n",
       "        </tr>\n",
       "        <tr>\n",
       "            <td>alaa@sfu.ca</td>\n",
       "            <td>bobby@sfu.ca</td>\n",
       "        </tr>\n",
       "        <tr>\n",
       "            <td>alaa@sfu.ca</td>\n",
       "            <td>angel@sfu.ca</td>\n",
       "        </tr>\n",
       "        <tr>\n",
       "            <td>alaa@sfu.ca</td>\n",
       "            <td>ritland@sfu.ca</td>\n",
       "        </tr>\n",
       "        <tr>\n",
       "            <td>saba@sfu.ca</td>\n",
       "            <td>steven@sfu.ca</td>\n",
       "        </tr>\n",
       "        <tr>\n",
       "            <td>saba@sfu.ca</td>\n",
       "            <td>brad@sfu.ca</td>\n",
       "        </tr>\n",
       "        <tr>\n",
       "            <td>saba@sfu.ca</td>\n",
       "            <td>robert@sfu.ca</td>\n",
       "        </tr>\n",
       "        <tr>\n",
       "            <td>saba@sfu.ca</td>\n",
       "            <td>bobby@sfu.ca</td>\n",
       "        </tr>\n",
       "        <tr>\n",
       "            <td>saba@sfu.ca</td>\n",
       "            <td>angel@sfu.ca</td>\n",
       "        </tr>\n",
       "        <tr>\n",
       "            <td>saba@sfu.ca</td>\n",
       "            <td>ritland@sfu.ca</td>\n",
       "        </tr>\n",
       "        <tr>\n",
       "            <td>matt@sfu.ca</td>\n",
       "            <td>steven@sfu.ca</td>\n",
       "        </tr>\n",
       "        <tr>\n",
       "            <td>matt@sfu.ca</td>\n",
       "            <td>brad@sfu.ca</td>\n",
       "        </tr>\n",
       "        <tr>\n",
       "            <td>matt@sfu.ca</td>\n",
       "            <td>robert@sfu.ca</td>\n",
       "        </tr>\n",
       "        <tr>\n",
       "            <td>matt@sfu.ca</td>\n",
       "            <td>bobby@sfu.ca</td>\n",
       "        </tr>\n",
       "        <tr>\n",
       "            <td>matt@sfu.ca</td>\n",
       "            <td>angel@sfu.ca</td>\n",
       "        </tr>\n",
       "        <tr>\n",
       "            <td>matt@sfu.ca</td>\n",
       "            <td>ritland@sfu.ca</td>\n",
       "        </tr>\n",
       "        <tr>\n",
       "            <td>steven@sfu.ca</td>\n",
       "            <td>yagiz@sfu.ca</td>\n",
       "        </tr>\n",
       "        <tr>\n",
       "            <td>steven@sfu.ca</td>\n",
       "            <td>alaa@sfu.ca</td>\n",
       "        </tr>\n",
       "        <tr>\n",
       "            <td>steven@sfu.ca</td>\n",
       "            <td>saba@sfu.ca</td>\n",
       "        </tr>\n",
       "        <tr>\n",
       "            <td>steven@sfu.ca</td>\n",
       "            <td>matt@sfu.ca</td>\n",
       "        </tr>\n",
       "        <tr>\n",
       "            <td>steven@sfu.ca</td>\n",
       "            <td>robert@sfu.ca</td>\n",
       "        </tr>\n",
       "        <tr>\n",
       "            <td>steven@sfu.ca</td>\n",
       "            <td>bobby@sfu.ca</td>\n",
       "        </tr>\n",
       "        <tr>\n",
       "            <td>steven@sfu.ca</td>\n",
       "            <td>angel@sfu.ca</td>\n",
       "        </tr>\n",
       "        <tr>\n",
       "            <td>steven@sfu.ca</td>\n",
       "            <td>ritland@sfu.ca</td>\n",
       "        </tr>\n",
       "        <tr>\n",
       "            <td>brad@sfu.ca</td>\n",
       "            <td>yagiz@sfu.ca</td>\n",
       "        </tr>\n",
       "        <tr>\n",
       "            <td>brad@sfu.ca</td>\n",
       "            <td>alaa@sfu.ca</td>\n",
       "        </tr>\n",
       "        <tr>\n",
       "            <td>brad@sfu.ca</td>\n",
       "            <td>saba@sfu.ca</td>\n",
       "        </tr>\n",
       "        <tr>\n",
       "            <td>brad@sfu.ca</td>\n",
       "            <td>matt@sfu.ca</td>\n",
       "        </tr>\n",
       "        <tr>\n",
       "            <td>brad@sfu.ca</td>\n",
       "            <td>robert@sfu.ca</td>\n",
       "        </tr>\n",
       "        <tr>\n",
       "            <td>brad@sfu.ca</td>\n",
       "            <td>bobby@sfu.ca</td>\n",
       "        </tr>\n",
       "        <tr>\n",
       "            <td>brad@sfu.ca</td>\n",
       "            <td>angel@sfu.ca</td>\n",
       "        </tr>\n",
       "        <tr>\n",
       "            <td>brad@sfu.ca</td>\n",
       "            <td>ritland@sfu.ca</td>\n",
       "        </tr>\n",
       "        <tr>\n",
       "            <td>robert@sfu.ca</td>\n",
       "            <td>yagiz@sfu.ca</td>\n",
       "        </tr>\n",
       "        <tr>\n",
       "            <td>robert@sfu.ca</td>\n",
       "            <td>alaa@sfu.ca</td>\n",
       "        </tr>\n",
       "        <tr>\n",
       "            <td>robert@sfu.ca</td>\n",
       "            <td>saba@sfu.ca</td>\n",
       "        </tr>\n",
       "        <tr>\n",
       "            <td>robert@sfu.ca</td>\n",
       "            <td>matt@sfu.ca</td>\n",
       "        </tr>\n",
       "        <tr>\n",
       "            <td>robert@sfu.ca</td>\n",
       "            <td>steven@sfu.ca</td>\n",
       "        </tr>\n",
       "        <tr>\n",
       "            <td>robert@sfu.ca</td>\n",
       "            <td>brad@sfu.ca</td>\n",
       "        </tr>\n",
       "        <tr>\n",
       "            <td>robert@sfu.ca</td>\n",
       "            <td>angel@sfu.ca</td>\n",
       "        </tr>\n",
       "        <tr>\n",
       "            <td>robert@sfu.ca</td>\n",
       "            <td>ritland@sfu.ca</td>\n",
       "        </tr>\n",
       "        <tr>\n",
       "            <td>bobby@sfu.ca</td>\n",
       "            <td>yagiz@sfu.ca</td>\n",
       "        </tr>\n",
       "        <tr>\n",
       "            <td>bobby@sfu.ca</td>\n",
       "            <td>alaa@sfu.ca</td>\n",
       "        </tr>\n",
       "        <tr>\n",
       "            <td>bobby@sfu.ca</td>\n",
       "            <td>saba@sfu.ca</td>\n",
       "        </tr>\n",
       "        <tr>\n",
       "            <td>bobby@sfu.ca</td>\n",
       "            <td>matt@sfu.ca</td>\n",
       "        </tr>\n",
       "        <tr>\n",
       "            <td>bobby@sfu.ca</td>\n",
       "            <td>steven@sfu.ca</td>\n",
       "        </tr>\n",
       "        <tr>\n",
       "            <td>bobby@sfu.ca</td>\n",
       "            <td>brad@sfu.ca</td>\n",
       "        </tr>\n",
       "        <tr>\n",
       "            <td>bobby@sfu.ca</td>\n",
       "            <td>angel@sfu.ca</td>\n",
       "        </tr>\n",
       "        <tr>\n",
       "            <td>bobby@sfu.ca</td>\n",
       "            <td>ritland@sfu.ca</td>\n",
       "        </tr>\n",
       "        <tr>\n",
       "            <td>angel@sfu.ca</td>\n",
       "            <td>yagiz@sfu.ca</td>\n",
       "        </tr>\n",
       "        <tr>\n",
       "            <td>angel@sfu.ca</td>\n",
       "            <td>alaa@sfu.ca</td>\n",
       "        </tr>\n",
       "        <tr>\n",
       "            <td>angel@sfu.ca</td>\n",
       "            <td>saba@sfu.ca</td>\n",
       "        </tr>\n",
       "        <tr>\n",
       "            <td>angel@sfu.ca</td>\n",
       "            <td>matt@sfu.ca</td>\n",
       "        </tr>\n",
       "        <tr>\n",
       "            <td>angel@sfu.ca</td>\n",
       "            <td>steven@sfu.ca</td>\n",
       "        </tr>\n",
       "        <tr>\n",
       "            <td>angel@sfu.ca</td>\n",
       "            <td>brad@sfu.ca</td>\n",
       "        </tr>\n",
       "        <tr>\n",
       "            <td>angel@sfu.ca</td>\n",
       "            <td>robert@sfu.ca</td>\n",
       "        </tr>\n",
       "        <tr>\n",
       "            <td>angel@sfu.ca</td>\n",
       "            <td>bobby@sfu.ca</td>\n",
       "        </tr>\n",
       "        <tr>\n",
       "            <td>angel@sfu.ca</td>\n",
       "            <td>ritland@sfu.ca</td>\n",
       "        </tr>\n",
       "        <tr>\n",
       "            <td>ritland@sfu.ca</td>\n",
       "            <td>yagiz@sfu.ca</td>\n",
       "        </tr>\n",
       "        <tr>\n",
       "            <td>ritland@sfu.ca</td>\n",
       "            <td>alaa@sfu.ca</td>\n",
       "        </tr>\n",
       "        <tr>\n",
       "            <td>ritland@sfu.ca</td>\n",
       "            <td>saba@sfu.ca</td>\n",
       "        </tr>\n",
       "        <tr>\n",
       "            <td>ritland@sfu.ca</td>\n",
       "            <td>matt@sfu.ca</td>\n",
       "        </tr>\n",
       "        <tr>\n",
       "            <td>ritland@sfu.ca</td>\n",
       "            <td>steven@sfu.ca</td>\n",
       "        </tr>\n",
       "        <tr>\n",
       "            <td>ritland@sfu.ca</td>\n",
       "            <td>brad@sfu.ca</td>\n",
       "        </tr>\n",
       "        <tr>\n",
       "            <td>ritland@sfu.ca</td>\n",
       "            <td>robert@sfu.ca</td>\n",
       "        </tr>\n",
       "        <tr>\n",
       "            <td>ritland@sfu.ca</td>\n",
       "            <td>bobby@sfu.ca</td>\n",
       "        </tr>\n",
       "        <tr>\n",
       "            <td>ritland@sfu.ca</td>\n",
       "            <td>angel@sfu.ca</td>\n",
       "        </tr>\n",
       "    </tbody>\n",
       "</table>"
      ],
      "text/plain": [
       "[('yagiz@sfu.ca', 'steven@sfu.ca'),\n",
       " ('yagiz@sfu.ca', 'brad@sfu.ca'),\n",
       " ('yagiz@sfu.ca', 'robert@sfu.ca'),\n",
       " ('yagiz@sfu.ca', 'bobby@sfu.ca'),\n",
       " ('yagiz@sfu.ca', 'angel@sfu.ca'),\n",
       " ('yagiz@sfu.ca', 'ritland@sfu.ca'),\n",
       " ('alaa@sfu.ca', 'steven@sfu.ca'),\n",
       " ('alaa@sfu.ca', 'brad@sfu.ca'),\n",
       " ('alaa@sfu.ca', 'robert@sfu.ca'),\n",
       " ('alaa@sfu.ca', 'bobby@sfu.ca'),\n",
       " ('alaa@sfu.ca', 'angel@sfu.ca'),\n",
       " ('alaa@sfu.ca', 'ritland@sfu.ca'),\n",
       " ('saba@sfu.ca', 'steven@sfu.ca'),\n",
       " ('saba@sfu.ca', 'brad@sfu.ca'),\n",
       " ('saba@sfu.ca', 'robert@sfu.ca'),\n",
       " ('saba@sfu.ca', 'bobby@sfu.ca'),\n",
       " ('saba@sfu.ca', 'angel@sfu.ca'),\n",
       " ('saba@sfu.ca', 'ritland@sfu.ca'),\n",
       " ('matt@sfu.ca', 'steven@sfu.ca'),\n",
       " ('matt@sfu.ca', 'brad@sfu.ca'),\n",
       " ('matt@sfu.ca', 'robert@sfu.ca'),\n",
       " ('matt@sfu.ca', 'bobby@sfu.ca'),\n",
       " ('matt@sfu.ca', 'angel@sfu.ca'),\n",
       " ('matt@sfu.ca', 'ritland@sfu.ca'),\n",
       " ('steven@sfu.ca', 'yagiz@sfu.ca'),\n",
       " ('steven@sfu.ca', 'alaa@sfu.ca'),\n",
       " ('steven@sfu.ca', 'saba@sfu.ca'),\n",
       " ('steven@sfu.ca', 'matt@sfu.ca'),\n",
       " ('steven@sfu.ca', 'robert@sfu.ca'),\n",
       " ('steven@sfu.ca', 'bobby@sfu.ca'),\n",
       " ('steven@sfu.ca', 'angel@sfu.ca'),\n",
       " ('steven@sfu.ca', 'ritland@sfu.ca'),\n",
       " ('brad@sfu.ca', 'yagiz@sfu.ca'),\n",
       " ('brad@sfu.ca', 'alaa@sfu.ca'),\n",
       " ('brad@sfu.ca', 'saba@sfu.ca'),\n",
       " ('brad@sfu.ca', 'matt@sfu.ca'),\n",
       " ('brad@sfu.ca', 'robert@sfu.ca'),\n",
       " ('brad@sfu.ca', 'bobby@sfu.ca'),\n",
       " ('brad@sfu.ca', 'angel@sfu.ca'),\n",
       " ('brad@sfu.ca', 'ritland@sfu.ca'),\n",
       " ('robert@sfu.ca', 'yagiz@sfu.ca'),\n",
       " ('robert@sfu.ca', 'alaa@sfu.ca'),\n",
       " ('robert@sfu.ca', 'saba@sfu.ca'),\n",
       " ('robert@sfu.ca', 'matt@sfu.ca'),\n",
       " ('robert@sfu.ca', 'steven@sfu.ca'),\n",
       " ('robert@sfu.ca', 'brad@sfu.ca'),\n",
       " ('robert@sfu.ca', 'angel@sfu.ca'),\n",
       " ('robert@sfu.ca', 'ritland@sfu.ca'),\n",
       " ('bobby@sfu.ca', 'yagiz@sfu.ca'),\n",
       " ('bobby@sfu.ca', 'alaa@sfu.ca'),\n",
       " ('bobby@sfu.ca', 'saba@sfu.ca'),\n",
       " ('bobby@sfu.ca', 'matt@sfu.ca'),\n",
       " ('bobby@sfu.ca', 'steven@sfu.ca'),\n",
       " ('bobby@sfu.ca', 'brad@sfu.ca'),\n",
       " ('bobby@sfu.ca', 'angel@sfu.ca'),\n",
       " ('bobby@sfu.ca', 'ritland@sfu.ca'),\n",
       " ('angel@sfu.ca', 'yagiz@sfu.ca'),\n",
       " ('angel@sfu.ca', 'alaa@sfu.ca'),\n",
       " ('angel@sfu.ca', 'saba@sfu.ca'),\n",
       " ('angel@sfu.ca', 'matt@sfu.ca'),\n",
       " ('angel@sfu.ca', 'steven@sfu.ca'),\n",
       " ('angel@sfu.ca', 'brad@sfu.ca'),\n",
       " ('angel@sfu.ca', 'robert@sfu.ca'),\n",
       " ('angel@sfu.ca', 'bobby@sfu.ca'),\n",
       " ('angel@sfu.ca', 'ritland@sfu.ca'),\n",
       " ('ritland@sfu.ca', 'yagiz@sfu.ca'),\n",
       " ('ritland@sfu.ca', 'alaa@sfu.ca'),\n",
       " ('ritland@sfu.ca', 'saba@sfu.ca'),\n",
       " ('ritland@sfu.ca', 'matt@sfu.ca'),\n",
       " ('ritland@sfu.ca', 'steven@sfu.ca'),\n",
       " ('ritland@sfu.ca', 'brad@sfu.ca'),\n",
       " ('ritland@sfu.ca', 'robert@sfu.ca'),\n",
       " ('ritland@sfu.ca', 'bobby@sfu.ca'),\n",
       " ('ritland@sfu.ca', 'angel@sfu.ca')]"
      ]
     },
     "execution_count": 75,
     "metadata": {},
     "output_type": "execute_result"
    }
   ],
   "source": [
    "%%sql\n",
    "CREATE VIEW PairsNotInSameDepartment AS \n",
    "SELECT r1.Email as r1_email_allpairs, r2.Email as r2_email_allpairs\n",
    "FROM Researcher as r1\n",
    "CROSS JOIN Researcher as r2\n",
    "WHERE r1.Department <> r2.Department;\n",
    "\n",
    "SELECT * FROM PairsNotInSameDepartment"
   ]
  },
  {
   "cell_type": "code",
   "execution_count": 121,
   "metadata": {},
   "outputs": [
    {
     "name": "stdout",
     "output_type": "stream",
     "text": [
      " * sqlite:///project2.db\n",
      "Done.\n"
     ]
    },
    {
     "data": {
      "text/plain": [
       "[]"
      ]
     },
     "execution_count": 121,
     "metadata": {},
     "output_type": "execute_result"
    }
   ],
   "source": [
    "%%sql\n",
    "\n",
    "CREATE TABLE Co_authored_Pair as\n",
    "SELECT c1.reviewer_email as r1_email, c2.reviewer_email as r2_email\n",
    "FROM Co_authored_element as c1 JOIN Co_authored_element as c2\n",
    "ON c1.conflict_id = c2.conflict_id\n",
    "WHERE c1.reviewer_email <> c2.reviewer_email;\n"
   ]
  },
  {
   "cell_type": "code",
   "execution_count": 126,
   "metadata": {},
   "outputs": [
    {
     "name": "stdout",
     "output_type": "stream",
     "text": [
      " * sqlite:///project2.db\n",
      "Done.\n"
     ]
    },
    {
     "data": {
      "text/plain": [
       "[]"
      ]
     },
     "execution_count": 126,
     "metadata": {},
     "output_type": "execute_result"
    }
   ],
   "source": [
    "%%sql\n",
    "CREATE VIEW Non_conflict_Pairs AS\n",
    "SELECT p.r1_email_allpairs, p.r2_email_allpairs\n",
    "FROM PairsNotInSameDepartment as p\n",
    "EXCEPT\n",
    "SELECT c.r1_email, c.r2_email\n",
    "FROM Co_authored_Pair as c\n",
    "\n",
    "\n"
   ]
  },
  {
   "cell_type": "code",
   "execution_count": 128,
   "metadata": {},
   "outputs": [
    {
     "name": "stdout",
     "output_type": "stream",
     "text": [
      " * sqlite:///project2.db\n",
      "Done.\n"
     ]
    },
    {
     "data": {
      "text/html": [
       "<table>\n",
       "    <thead>\n",
       "        <tr>\n",
       "            <th>r1_email_allpairs</th>\n",
       "            <th>r2_email_allpairs</th>\n",
       "        </tr>\n",
       "    </thead>\n",
       "    <tbody>\n",
       "        <tr>\n",
       "            <td>alaa@sfu.ca</td>\n",
       "            <td>angel@sfu.ca</td>\n",
       "        </tr>\n",
       "        <tr>\n",
       "            <td>alaa@sfu.ca</td>\n",
       "            <td>bobby@sfu.ca</td>\n",
       "        </tr>\n",
       "        <tr>\n",
       "            <td>alaa@sfu.ca</td>\n",
       "            <td>brad@sfu.ca</td>\n",
       "        </tr>\n",
       "        <tr>\n",
       "            <td>alaa@sfu.ca</td>\n",
       "            <td>ritland@sfu.ca</td>\n",
       "        </tr>\n",
       "        <tr>\n",
       "            <td>alaa@sfu.ca</td>\n",
       "            <td>robert@sfu.ca</td>\n",
       "        </tr>\n",
       "        <tr>\n",
       "            <td>alaa@sfu.ca</td>\n",
       "            <td>steven@sfu.ca</td>\n",
       "        </tr>\n",
       "        <tr>\n",
       "            <td>angel@sfu.ca</td>\n",
       "            <td>alaa@sfu.ca</td>\n",
       "        </tr>\n",
       "        <tr>\n",
       "            <td>angel@sfu.ca</td>\n",
       "            <td>bobby@sfu.ca</td>\n",
       "        </tr>\n",
       "        <tr>\n",
       "            <td>angel@sfu.ca</td>\n",
       "            <td>brad@sfu.ca</td>\n",
       "        </tr>\n",
       "        <tr>\n",
       "            <td>angel@sfu.ca</td>\n",
       "            <td>matt@sfu.ca</td>\n",
       "        </tr>\n",
       "        <tr>\n",
       "            <td>angel@sfu.ca</td>\n",
       "            <td>ritland@sfu.ca</td>\n",
       "        </tr>\n",
       "        <tr>\n",
       "            <td>angel@sfu.ca</td>\n",
       "            <td>robert@sfu.ca</td>\n",
       "        </tr>\n",
       "        <tr>\n",
       "            <td>angel@sfu.ca</td>\n",
       "            <td>saba@sfu.ca</td>\n",
       "        </tr>\n",
       "        <tr>\n",
       "            <td>angel@sfu.ca</td>\n",
       "            <td>steven@sfu.ca</td>\n",
       "        </tr>\n",
       "        <tr>\n",
       "            <td>angel@sfu.ca</td>\n",
       "            <td>yagiz@sfu.ca</td>\n",
       "        </tr>\n",
       "        <tr>\n",
       "            <td>bobby@sfu.ca</td>\n",
       "            <td>alaa@sfu.ca</td>\n",
       "        </tr>\n",
       "        <tr>\n",
       "            <td>bobby@sfu.ca</td>\n",
       "            <td>angel@sfu.ca</td>\n",
       "        </tr>\n",
       "        <tr>\n",
       "            <td>bobby@sfu.ca</td>\n",
       "            <td>brad@sfu.ca</td>\n",
       "        </tr>\n",
       "        <tr>\n",
       "            <td>bobby@sfu.ca</td>\n",
       "            <td>ritland@sfu.ca</td>\n",
       "        </tr>\n",
       "        <tr>\n",
       "            <td>bobby@sfu.ca</td>\n",
       "            <td>saba@sfu.ca</td>\n",
       "        </tr>\n",
       "        <tr>\n",
       "            <td>bobby@sfu.ca</td>\n",
       "            <td>steven@sfu.ca</td>\n",
       "        </tr>\n",
       "        <tr>\n",
       "            <td>bobby@sfu.ca</td>\n",
       "            <td>yagiz@sfu.ca</td>\n",
       "        </tr>\n",
       "        <tr>\n",
       "            <td>brad@sfu.ca</td>\n",
       "            <td>alaa@sfu.ca</td>\n",
       "        </tr>\n",
       "        <tr>\n",
       "            <td>brad@sfu.ca</td>\n",
       "            <td>angel@sfu.ca</td>\n",
       "        </tr>\n",
       "        <tr>\n",
       "            <td>brad@sfu.ca</td>\n",
       "            <td>bobby@sfu.ca</td>\n",
       "        </tr>\n",
       "        <tr>\n",
       "            <td>brad@sfu.ca</td>\n",
       "            <td>matt@sfu.ca</td>\n",
       "        </tr>\n",
       "        <tr>\n",
       "            <td>matt@sfu.ca</td>\n",
       "            <td>angel@sfu.ca</td>\n",
       "        </tr>\n",
       "        <tr>\n",
       "            <td>matt@sfu.ca</td>\n",
       "            <td>brad@sfu.ca</td>\n",
       "        </tr>\n",
       "        <tr>\n",
       "            <td>matt@sfu.ca</td>\n",
       "            <td>ritland@sfu.ca</td>\n",
       "        </tr>\n",
       "        <tr>\n",
       "            <td>matt@sfu.ca</td>\n",
       "            <td>steven@sfu.ca</td>\n",
       "        </tr>\n",
       "        <tr>\n",
       "            <td>ritland@sfu.ca</td>\n",
       "            <td>alaa@sfu.ca</td>\n",
       "        </tr>\n",
       "        <tr>\n",
       "            <td>ritland@sfu.ca</td>\n",
       "            <td>angel@sfu.ca</td>\n",
       "        </tr>\n",
       "        <tr>\n",
       "            <td>ritland@sfu.ca</td>\n",
       "            <td>bobby@sfu.ca</td>\n",
       "        </tr>\n",
       "        <tr>\n",
       "            <td>ritland@sfu.ca</td>\n",
       "            <td>matt@sfu.ca</td>\n",
       "        </tr>\n",
       "        <tr>\n",
       "            <td>ritland@sfu.ca</td>\n",
       "            <td>steven@sfu.ca</td>\n",
       "        </tr>\n",
       "        <tr>\n",
       "            <td>robert@sfu.ca</td>\n",
       "            <td>alaa@sfu.ca</td>\n",
       "        </tr>\n",
       "        <tr>\n",
       "            <td>robert@sfu.ca</td>\n",
       "            <td>angel@sfu.ca</td>\n",
       "        </tr>\n",
       "        <tr>\n",
       "            <td>robert@sfu.ca</td>\n",
       "            <td>steven@sfu.ca</td>\n",
       "        </tr>\n",
       "        <tr>\n",
       "            <td>saba@sfu.ca</td>\n",
       "            <td>angel@sfu.ca</td>\n",
       "        </tr>\n",
       "        <tr>\n",
       "            <td>saba@sfu.ca</td>\n",
       "            <td>bobby@sfu.ca</td>\n",
       "        </tr>\n",
       "        <tr>\n",
       "            <td>saba@sfu.ca</td>\n",
       "            <td>steven@sfu.ca</td>\n",
       "        </tr>\n",
       "        <tr>\n",
       "            <td>steven@sfu.ca</td>\n",
       "            <td>alaa@sfu.ca</td>\n",
       "        </tr>\n",
       "        <tr>\n",
       "            <td>steven@sfu.ca</td>\n",
       "            <td>angel@sfu.ca</td>\n",
       "        </tr>\n",
       "        <tr>\n",
       "            <td>steven@sfu.ca</td>\n",
       "            <td>bobby@sfu.ca</td>\n",
       "        </tr>\n",
       "        <tr>\n",
       "            <td>steven@sfu.ca</td>\n",
       "            <td>matt@sfu.ca</td>\n",
       "        </tr>\n",
       "        <tr>\n",
       "            <td>steven@sfu.ca</td>\n",
       "            <td>ritland@sfu.ca</td>\n",
       "        </tr>\n",
       "        <tr>\n",
       "            <td>steven@sfu.ca</td>\n",
       "            <td>robert@sfu.ca</td>\n",
       "        </tr>\n",
       "        <tr>\n",
       "            <td>steven@sfu.ca</td>\n",
       "            <td>saba@sfu.ca</td>\n",
       "        </tr>\n",
       "        <tr>\n",
       "            <td>steven@sfu.ca</td>\n",
       "            <td>yagiz@sfu.ca</td>\n",
       "        </tr>\n",
       "        <tr>\n",
       "            <td>yagiz@sfu.ca</td>\n",
       "            <td>angel@sfu.ca</td>\n",
       "        </tr>\n",
       "        <tr>\n",
       "            <td>yagiz@sfu.ca</td>\n",
       "            <td>bobby@sfu.ca</td>\n",
       "        </tr>\n",
       "        <tr>\n",
       "            <td>yagiz@sfu.ca</td>\n",
       "            <td>steven@sfu.ca</td>\n",
       "        </tr>\n",
       "    </tbody>\n",
       "</table>"
      ],
      "text/plain": [
       "[('alaa@sfu.ca', 'angel@sfu.ca'),\n",
       " ('alaa@sfu.ca', 'bobby@sfu.ca'),\n",
       " ('alaa@sfu.ca', 'brad@sfu.ca'),\n",
       " ('alaa@sfu.ca', 'ritland@sfu.ca'),\n",
       " ('alaa@sfu.ca', 'robert@sfu.ca'),\n",
       " ('alaa@sfu.ca', 'steven@sfu.ca'),\n",
       " ('angel@sfu.ca', 'alaa@sfu.ca'),\n",
       " ('angel@sfu.ca', 'bobby@sfu.ca'),\n",
       " ('angel@sfu.ca', 'brad@sfu.ca'),\n",
       " ('angel@sfu.ca', 'matt@sfu.ca'),\n",
       " ('angel@sfu.ca', 'ritland@sfu.ca'),\n",
       " ('angel@sfu.ca', 'robert@sfu.ca'),\n",
       " ('angel@sfu.ca', 'saba@sfu.ca'),\n",
       " ('angel@sfu.ca', 'steven@sfu.ca'),\n",
       " ('angel@sfu.ca', 'yagiz@sfu.ca'),\n",
       " ('bobby@sfu.ca', 'alaa@sfu.ca'),\n",
       " ('bobby@sfu.ca', 'angel@sfu.ca'),\n",
       " ('bobby@sfu.ca', 'brad@sfu.ca'),\n",
       " ('bobby@sfu.ca', 'ritland@sfu.ca'),\n",
       " ('bobby@sfu.ca', 'saba@sfu.ca'),\n",
       " ('bobby@sfu.ca', 'steven@sfu.ca'),\n",
       " ('bobby@sfu.ca', 'yagiz@sfu.ca'),\n",
       " ('brad@sfu.ca', 'alaa@sfu.ca'),\n",
       " ('brad@sfu.ca', 'angel@sfu.ca'),\n",
       " ('brad@sfu.ca', 'bobby@sfu.ca'),\n",
       " ('brad@sfu.ca', 'matt@sfu.ca'),\n",
       " ('matt@sfu.ca', 'angel@sfu.ca'),\n",
       " ('matt@sfu.ca', 'brad@sfu.ca'),\n",
       " ('matt@sfu.ca', 'ritland@sfu.ca'),\n",
       " ('matt@sfu.ca', 'steven@sfu.ca'),\n",
       " ('ritland@sfu.ca', 'alaa@sfu.ca'),\n",
       " ('ritland@sfu.ca', 'angel@sfu.ca'),\n",
       " ('ritland@sfu.ca', 'bobby@sfu.ca'),\n",
       " ('ritland@sfu.ca', 'matt@sfu.ca'),\n",
       " ('ritland@sfu.ca', 'steven@sfu.ca'),\n",
       " ('robert@sfu.ca', 'alaa@sfu.ca'),\n",
       " ('robert@sfu.ca', 'angel@sfu.ca'),\n",
       " ('robert@sfu.ca', 'steven@sfu.ca'),\n",
       " ('saba@sfu.ca', 'angel@sfu.ca'),\n",
       " ('saba@sfu.ca', 'bobby@sfu.ca'),\n",
       " ('saba@sfu.ca', 'steven@sfu.ca'),\n",
       " ('steven@sfu.ca', 'alaa@sfu.ca'),\n",
       " ('steven@sfu.ca', 'angel@sfu.ca'),\n",
       " ('steven@sfu.ca', 'bobby@sfu.ca'),\n",
       " ('steven@sfu.ca', 'matt@sfu.ca'),\n",
       " ('steven@sfu.ca', 'ritland@sfu.ca'),\n",
       " ('steven@sfu.ca', 'robert@sfu.ca'),\n",
       " ('steven@sfu.ca', 'saba@sfu.ca'),\n",
       " ('steven@sfu.ca', 'yagiz@sfu.ca'),\n",
       " ('yagiz@sfu.ca', 'angel@sfu.ca'),\n",
       " ('yagiz@sfu.ca', 'bobby@sfu.ca'),\n",
       " ('yagiz@sfu.ca', 'steven@sfu.ca')]"
      ]
     },
     "execution_count": 128,
     "metadata": {},
     "output_type": "execute_result"
    }
   ],
   "source": [
    "%%sql SELECT *\n",
    "FROM Non_conflict_Pairs"
   ]
  },
  {
   "cell_type": "code",
   "execution_count": 58,
   "metadata": {},
   "outputs": [
    {
     "name": "stdout",
     "output_type": "stream",
     "text": [
      " * sqlite:///project2.db\n",
      "Done.\n"
     ]
    },
    {
     "data": {
      "text/html": [
       "<table>\n",
       "    <thead>\n",
       "        <tr>\n",
       "            <th>Number</th>\n",
       "            <th>CallForGrantProposalNumber</th>\n",
       "            <th>ApplicationStatus</th>\n",
       "            <th>SummitDate</th>\n",
       "            <th>RequestedAmount</th>\n",
       "            <th>PrincipalInvestigator</th>\n",
       "            <th>ReviewerEmail</th>\n",
       "        </tr>\n",
       "    </thead>\n",
       "    <tbody>\n",
       "        <tr>\n",
       "            <td>1</td>\n",
       "            <td>1</td>\n",
       "            <td>Not summit</td>\n",
       "            <td>None</td>\n",
       "            <td>2000</td>\n",
       "            <td>saba@sfu.ca</td>\n",
       "            <td>matt@sfu.ca</td>\n",
       "        </tr>\n",
       "        <tr>\n",
       "            <td>2</td>\n",
       "            <td>1</td>\n",
       "            <td>Summited</td>\n",
       "            <td>2024-04-05</td>\n",
       "            <td>2500</td>\n",
       "            <td>saba@sfu.ca</td>\n",
       "            <td>matt@sfu.ca</td>\n",
       "        </tr>\n",
       "        <tr>\n",
       "            <td>3</td>\n",
       "            <td>1</td>\n",
       "            <td>Not summit</td>\n",
       "            <td>None</td>\n",
       "            <td>50000</td>\n",
       "            <td>alaa@sfu.ca</td>\n",
       "            <td>matt@sfu.ca</td>\n",
       "        </tr>\n",
       "        <tr>\n",
       "            <td>4</td>\n",
       "            <td>2</td>\n",
       "            <td>Summited</td>\n",
       "            <td>2024-04-05</td>\n",
       "            <td>1500</td>\n",
       "            <td>alaa@sfu.ca</td>\n",
       "            <td>matt@sfu.ca</td>\n",
       "        </tr>\n",
       "        <tr>\n",
       "            <td>5</td>\n",
       "            <td>2</td>\n",
       "            <td>Not summit</td>\n",
       "            <td>None</td>\n",
       "            <td>2000</td>\n",
       "            <td>robert@sfu.ca</td>\n",
       "            <td>matt@sfu.ca</td>\n",
       "        </tr>\n",
       "        <tr>\n",
       "            <td>6</td>\n",
       "            <td>2</td>\n",
       "            <td>Summited</td>\n",
       "            <td>2024-04-05</td>\n",
       "            <td>3000</td>\n",
       "            <td>robert@sfu.ca</td>\n",
       "            <td>matt@sfu.ca</td>\n",
       "        </tr>\n",
       "    </tbody>\n",
       "</table>"
      ],
      "text/plain": [
       "[(1, 1, 'Not summit', None, 2000, 'saba@sfu.ca', 'matt@sfu.ca'),\n",
       " (2, 1, 'Summited', '2024-04-05', 2500, 'saba@sfu.ca', 'matt@sfu.ca'),\n",
       " (3, 1, 'Not summit', None, 50000, 'alaa@sfu.ca', 'matt@sfu.ca'),\n",
       " (4, 2, 'Summited', '2024-04-05', 1500, 'alaa@sfu.ca', 'matt@sfu.ca'),\n",
       " (5, 2, 'Not summit', None, 2000, 'robert@sfu.ca', 'matt@sfu.ca'),\n",
       " (6, 2, 'Summited', '2024-04-05', 3000, 'robert@sfu.ca', 'matt@sfu.ca')]"
      ]
     },
     "execution_count": 58,
     "metadata": {},
     "output_type": "execute_result"
    }
   ],
   "source": [
    "%%sql\n",
    "SELECT g.*, r.Email as ReviewerEmail\n",
    "FROM GrantProposal as g, Reviewing as rw, Researcher as r \n",
    "WHERE g.CallForGrantProposalNumber = rw.CallForGrantProposalNumber\n",
    "AND rw.Reviewer_email= r.Email\n",
    "AND r.FirstName = \"Matt\" AND r.lastName = \"Amy\""
   ]
  },
  {
   "cell_type": "code",
   "execution_count": null,
   "metadata": {},
   "outputs": [],
   "source": []
  }
 ],
 "metadata": {
  "kernelspec": {
   "display_name": "Python 3 (ipykernel)",
   "language": "python",
   "name": "python3"
  },
  "language_info": {
   "codemirror_mode": {
    "name": "ipython",
    "version": 3
   },
   "file_extension": ".py",
   "mimetype": "text/x-python",
   "name": "python",
   "nbconvert_exporter": "python",
   "pygments_lexer": "ipython3",
   "version": "3.11.5"
  }
 },
 "nbformat": 4,
 "nbformat_minor": 2
}
