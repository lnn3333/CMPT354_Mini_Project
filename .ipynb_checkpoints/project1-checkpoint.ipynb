{
 "cells": [
  {
   "cell_type": "code",
   "execution_count": 1,
   "metadata": {},
   "outputs": [],
   "source": [
    "import sqlite3\n",
    "connection = sqlite3.connect(\"project1.db\")\n",
    "cursor = connection.cursor()"
   ]
  },
  {
   "cell_type": "markdown",
   "metadata": {},
   "source": [
    "Create table"
   ]
  },
  {
   "cell_type": "code",
   "execution_count": 5,
   "metadata": {},
   "outputs": [
    {
     "name": "stdout",
     "output_type": "stream",
     "text": [
      "Researcher\n",
      "CallForGrantProposal\n",
      "GrantProposal\n",
      "Meeting\n",
      "Participates\n",
      "Reviewing\n",
      "Awards\n",
      "ResearchGrantCouncil\n"
     ]
    }
   ],
   "source": [
    "# Query the SQLite master table to get a list of tables\n",
    "cursor.execute(\"SELECT name FROM sqlite_master WHERE type='table';\")\n",
    "\n",
    "# Fetch the results\n",
    "tables = cursor.fetchall()\n",
    "\n",
    "# Print the list of tables\n",
    "for table in tables:\n",
    "    print(table[0])"
   ]
  },
  {
   "cell_type": "code",
   "execution_count": 10,
   "metadata": {},
   "outputs": [
    {
     "ename": "OperationalError",
     "evalue": "table Researcher already exists",
     "output_type": "error",
     "traceback": [
      "\u001b[1;31m---------------------------------------------------------------------------\u001b[0m",
      "\u001b[1;31mOperationalError\u001b[0m                          Traceback (most recent call last)",
      "Cell \u001b[1;32mIn[10], line 10\u001b[0m\n\u001b[0;32m      1\u001b[0m sql_command \u001b[38;5;241m=\u001b[39m \u001b[38;5;124m\"\"\"\u001b[39m\u001b[38;5;124mCREATE TABLE Researcher (\u001b[39m\n\u001b[0;32m      2\u001b[0m \u001b[38;5;124m    Email VARCHAR(10) PRIMARY KEY,\u001b[39m\n\u001b[0;32m      3\u001b[0m \u001b[38;5;124m    FirstName VARCHAR(10),\u001b[39m\n\u001b[1;32m   (...)\u001b[0m\n\u001b[0;32m      7\u001b[0m \u001b[38;5;124m    Reviewer BINARY\u001b[39m\n\u001b[0;32m      8\u001b[0m \u001b[38;5;124m);\u001b[39m\u001b[38;5;124m\"\"\"\u001b[39m\n\u001b[1;32m---> 10\u001b[0m \u001b[43mcursor\u001b[49m\u001b[38;5;241;43m.\u001b[39;49m\u001b[43mexecute\u001b[49m\u001b[43m(\u001b[49m\u001b[43msql_command\u001b[49m\u001b[43m)\u001b[49m\n",
      "\u001b[1;31mOperationalError\u001b[0m: table Researcher already exists"
     ]
    }
   ],
   "source": [
    "sql_command = \"\"\"CREATE TABLE Researcher (\n",
    "    Email VARCHAR(10) PRIMARY KEY,\n",
    "    FirstName VARCHAR(10),\n",
    "    LastName VARCHAR(10),\n",
    "    Organization VARCHAR(10),\n",
    "    Department VARCHAR(50),\n",
    "    Reviewer BINARY\n",
    ");\"\"\"\n",
    "\n",
    "cursor.execute(sql_command)"
   ]
  },
  {
   "cell_type": "code",
   "execution_count": 3,
   "metadata": {},
   "outputs": [
    {
     "data": {
      "text/plain": [
       "<sqlite3.Cursor at 0x25fbca17ec0>"
      ]
     },
     "execution_count": 3,
     "metadata": {},
     "output_type": "execute_result"
    }
   ],
   "source": [
    "sql_command = \"\"\"CREATE TABLE CallForGrantProposal(\n",
    "    Number INT,\n",
    "    HostingCouncilKey INT,\n",
    "    Title VARCHAR(10), \n",
    "    Area VARCHAR(10),\n",
    "    Status VARCHAR(10),\n",
    "    Deadline DATE,\n",
    "    Description VARCHAR(60),\n",
    "    PRIMARY KEY (Number, HostingCouncilKey)\n",
    "\n",
    ");\"\"\"\n",
    "cursor.execute(sql_command)\n"
   ]
  },
  {
   "cell_type": "code",
   "execution_count": 4,
   "metadata": {},
   "outputs": [
    {
     "data": {
      "text/plain": [
       "<sqlite3.Cursor at 0x25fbca17ec0>"
      ]
     },
     "execution_count": 4,
     "metadata": {},
     "output_type": "execute_result"
    }
   ],
   "source": [
    "sql_command = \"\"\"CREATE TABLE GrantProposal (\n",
    "    Number INT,\n",
    "    ApplicationStatus VARCHAR(10),\n",
    "    RequestedAmount INT,\n",
    "    PrincipalInvestigator VARCHAR(50)\n",
    "\n",
    ")\"\"\"\n",
    "cursor.execute(sql_command)"
   ]
  },
  {
   "cell_type": "code",
   "execution_count": 5,
   "metadata": {},
   "outputs": [
    {
     "data": {
      "text/plain": [
       "<sqlite3.Cursor at 0x25fbca17ec0>"
      ]
     },
     "execution_count": 5,
     "metadata": {},
     "output_type": "execute_result"
    }
   ],
   "source": [
    "sql_command = \"\"\"CREATE TABLE Meeting (\n",
    "    Num INT,\n",
    "    Date DATE,\n",
    "    FOREIGN KEY (Num) REFERENCES CallForGrant(Num)\n",
    ");\"\"\"\n",
    "cursor.execute(sql_command)"
   ]
  },
  {
   "cell_type": "code",
   "execution_count": 6,
   "metadata": {},
   "outputs": [
    {
     "data": {
      "text/plain": [
       "<sqlite3.Cursor at 0x25fbca17ec0>"
      ]
     },
     "execution_count": 6,
     "metadata": {},
     "output_type": "execute_result"
    }
   ],
   "source": [
    "sql_command = \"\"\"CREATE TABLE Participates (\n",
    "    Participant_email VARCHAR(10),\n",
    "    CallForGrantProposalNumber INT,\n",
    "    FOREIGN KEY (Participant_email) REFERENCES Researcher(Email),\n",
    "    FOREIGN KEY (CallForGrantProposalNumber) REFERENCES CallForGrantProposal(Number)\n",
    ");\"\"\"\n",
    "cursor.execute(sql_command)"
   ]
  },
  {
   "cell_type": "code",
   "execution_count": 7,
   "metadata": {},
   "outputs": [
    {
     "data": {
      "text/plain": [
       "<sqlite3.Cursor at 0x25fbca17ec0>"
      ]
     },
     "execution_count": 7,
     "metadata": {},
     "output_type": "execute_result"
    }
   ],
   "source": [
    "sql_command = \"\"\"CREATE TABLE Reviewing (\n",
    "    Deadline DATE,\n",
    "    CallForGrantProposalNumber INT,\n",
    "    SubmissionStatus VARCHAR(50),\n",
    "    Reviewer_email VARCHAR(10),\n",
    "\n",
    "    FOREIGN KEY (Reviewer_email) REFERENCES Researcher(Email)\n",
    "    FOREIGN KEY (CallForGrantProposalNumber) REFERENCES CallForGrantProposal(Number)\n",
    ");\"\"\"\n",
    "cursor.execute(sql_command)"
   ]
  },
  {
   "cell_type": "code",
   "execution_count": 8,
   "metadata": {},
   "outputs": [
    {
     "data": {
      "text/plain": [
       "<sqlite3.Cursor at 0x25fbca17ec0>"
      ]
     },
     "execution_count": 8,
     "metadata": {},
     "output_type": "execute_result"
    }
   ],
   "source": [
    "sql_command = \"\"\"CREATE TABLE Awards (\n",
    "    ProposalID INT, \n",
    "    Amount INT,\n",
    "    Date DATE,\n",
    "    FOREIGN KEY (ProposalID) REFERENCES GrantProposal(Number)\n",
    ");\"\"\"\n",
    "cursor.execute(sql_command)"
   ]
  },
  {
   "cell_type": "code",
   "execution_count": 9,
   "metadata": {},
   "outputs": [
    {
     "data": {
      "text/plain": [
       "<sqlite3.Cursor at 0x25fbca17ec0>"
      ]
     },
     "execution_count": 9,
     "metadata": {},
     "output_type": "execute_result"
    }
   ],
   "source": [
    "sql_command = \"\"\"CREATE TABLE ResearchGrantCouncil (\n",
    "    --How do we identify a Council? By name? by id?\n",
    "    PrimKey INT,\n",
    "    PRIMARY KEY(PrimKey)\n",
    "\n",
    ");\"\"\"\n",
    "cursor.execute(sql_command)"
   ]
  }
 ],
 "metadata": {
  "kernelspec": {
   "display_name": "Python 3 (ipykernel)",
   "language": "python",
   "name": "python3"
  },
  "language_info": {
   "codemirror_mode": {
    "name": "ipython",
    "version": 3
   },
   "file_extension": ".py",
   "mimetype": "text/x-python",
   "name": "python",
   "nbconvert_exporter": "python",
   "pygments_lexer": "ipython3",
   "version": "3.11.5"
  }
 },
 "nbformat": 4,
 "nbformat_minor": 2
}
